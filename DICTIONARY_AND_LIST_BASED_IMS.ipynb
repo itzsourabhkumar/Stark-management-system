{
 "cells": [
  {
   "cell_type": "code",
   "execution_count": 183,
   "id": "d7b9186a",
   "metadata": {},
   "outputs": [],
   "source": [
    "employees_data = open(\"employees-data.txt\",'r')\n",
    "data = employees_data.read()\n",
    "employees_data.close() "
   ]
  },
  {
   "cell_type": "code",
   "execution_count": 184,
   "id": "951b0828",
   "metadata": {},
   "outputs": [
    {
     "name": "stdout",
     "output_type": "stream",
     "text": [
      "---------------------------------------------------------------------------------------------------------------------------------------------\n",
      "EmployeesName  ||  email-ID  ||  Mobile.NO  ||  Occupation  ||  Salary\n",
      "William  ||  william386@gamil.com  ||  7659863246  ||  Sales director  ||  20000\n",
      "Michael  ||  michael569@gmail.com  ||  9084568743  ||  software engineer  ||  45000\n",
      "Jackson  ||  jackson423@gmail.com  ||  6084569743  ||  software engineer  ||  23000\n",
      "Aailyah  ||  aailyaah190@gmail.com  ||  6587983457  ||  Sales manager  ||  34000\n",
      "Matthew  ||  matther870@gmail.com  ||  9734709872  ||  software engineer  ||  24500\n",
      "Grayson  ||  Gyayson905@gmail.com  ||  9356789457  ||  Techical department  ||  35670\n",
      "Lincoln  ||  licoln532@gmail.com  ||  8096743578  ||  ITadministration  ||  45630\n",
      "Anthony  ||  anthony000@gmail.com  ||  9043279043  ||  Web devloper  ||  45300\n",
      "sourabh  ||  sourabh123@gmail.com  ||  9045789038  ||  software engineer  ||  75300\n",
      "---------------------------------------------------------------------------------------------------------------------------------------------\n"
     ]
    }
   ],
   "source": [
    "file_data = data.split(\"\\n\")\n",
    "\n",
    "data_of_Email = [] \n",
    "data_of_password = []\n",
    "\n",
    "print(\"---------------------------------------------------------------------------------------------------------------------------------------------\")\n",
    "for i in file_data:\n",
    "    name = i.split(\",\")\n",
    "    print(name[0] + \"  ||  \" + name[6] + \"  ||  \" + name[1] + \"  ||  \" + name[5] + \"  ||  \" + name[4] )\n",
    "    if(name[6] != 'email-ID'):\n",
    "        data_of_Email.append(name[6])\n",
    "    if(name[7] != \"password\"):    \n",
    "        data_of_password.append(name[7])\n",
    "        \n",
    "print(\"---------------------------------------------------------------------------------------------------------------------------------------------\")"
   ]
  },
  {
   "cell_type": "code",
   "execution_count": 185,
   "id": "4b216821",
   "metadata": {},
   "outputs": [],
   "source": [
    "login_record = {data_of_Email[0]: data_of_password[0],data_of_Email[1]: data_of_password[1],data_of_Email[2]: data_of_password[2],data_of_Email[3]: data_of_password[3],data_of_Email[4]: data_of_password[4],data_of_Email[5]: data_of_password[5],data_of_Email[6]: data_of_password[6],data_of_Email[7]: data_of_password[7],data_of_Email[8]: data_of_password[8]}"
   ]
  },
  {
   "cell_type": "code",
   "execution_count": 186,
   "id": "771ccf3b",
   "metadata": {},
   "outputs": [
    {
     "name": "stdout",
     "output_type": "stream",
     "text": [
      "Enter Your Email Address: aailyaah190@gmail.com\n",
      "Enter password: 12345\n"
     ]
    }
   ],
   "source": [
    "user_email = input(\"Enter Your Email Address: \")\n",
    "password = input(\"Enter password: \")"
   ]
  },
  {
   "cell_type": "code",
   "execution_count": 191,
   "id": "57070e8c",
   "metadata": {},
   "outputs": [
    {
     "name": "stdout",
     "output_type": "stream",
     "text": [
      "Successfully Login\n"
     ]
    }
   ],
   "source": [
    "email_found = True\n",
    "\n",
    "for i in login_record:\n",
    "    if(i == user_email):\n",
    "        email_found = False\n",
    "        if(login_record[i] == password):\n",
    "            print(\"Successfully Login\")\n",
    "        else:\n",
    "            print(\"Wrong Password\")\n",
    "\n",
    "\n",
    "\n",
    "if(email_found):\n",
    "    print(\"Enter a valid email-ID\")"
   ]
  },
  {
   "cell_type": "code",
   "execution_count": 192,
   "id": "0c9fb37d",
   "metadata": {},
   "outputs": [],
   "source": [
    "mess_record = { 1: {\"item\": \"Burger King Whopper\", \"price\": 160,\"quantity\":  300},\n",
    "                                2: {\"item\": \"Five Guys Cheeseburger\", \"price\": 300,\"quantity\":  400},\n",
    "                                3: {\"item\": \"KFC original Recipe Chicken\", \"price\": 340,\"quantity\":  100},\n",
    "                                4: {\"item\": \"Araby's Roast Breef Sandwitch\", \"price\": 250,\"quantity\":  680},\n",
    "                                5: {\"item\": \"Sonic Cherry Limeade\", \"price\": 150,\"quantity\":  180},\n",
    "                                6: {\"item\": \"Wendy's Frosty\", \"price\": 60,\"quantity\":  558},\n",
    "                                7: {\"item\": \"StarBucks Pumpkin Spice Latte\", \"price\": 430,\"quantity\":  500},\n",
    "                                8: {\"item\": \"Taco Bell Burrito\", \"price\": 75,\"quantity\":  240},\n",
    "                                9: {\"item\": \"Dunkin Coffee\", \"price\": 100,\"quantity\":  450}   }\n"
   ]
  },
  {
   "cell_type": "code",
   "execution_count": 193,
   "id": "e3bf7ede",
   "metadata": {},
   "outputs": [
    {
     "name": "stdout",
     "output_type": "stream",
     "text": [
      "\t\t\t\t\t\tMenu Card Fast Food\n",
      "**********************************************************\n",
      "ITEM NO  1 :  Burger King Whopper  ||  PPI ->   160\n",
      "ITEM NO  2 :  Five Guys Cheeseburger  ||  PPI ->   300\n",
      "ITEM NO  3 :  KFC original Recipe Chicken  ||  PPI ->   340\n",
      "ITEM NO  4 :  Araby's Roast Breef Sandwitch  ||  PPI ->   250\n",
      "ITEM NO  5 :  Sonic Cherry Limeade  ||  PPI ->   150\n",
      "ITEM NO  6 :  Wendy's Frosty  ||  PPI ->   60\n",
      "ITEM NO  7 :  StarBucks Pumpkin Spice Latte  ||  PPI ->   430\n",
      "ITEM NO  8 :  Taco Bell Burrito  ||  PPI ->   75\n",
      "ITEM NO  9 :  Dunkin Coffee  ||  PPI ->   100\n",
      "**********************************************************\n",
      "Here PPI = Price per item\n"
     ]
    }
   ],
   "source": [
    "print(\"\\t\\t\\t\\t\\t\\tMenu Card Fast Food\")\n",
    "print(\"**********************************************************\")\n",
    "for i in range(1,10):\n",
    "    print(\"ITEM NO \",i,\": \" ,mess_record[i][\"item\"] , \" ||  PPI ->  \" , mess_record[i][\"price\"])  \n",
    "print(\"**********************************************************\")\n",
    "print(\"Here PPI = Price per item\")\n"
   ]
  },
  {
   "cell_type": "code",
   "execution_count": 194,
   "id": "3a001c44",
   "metadata": {},
   "outputs": [
    {
     "name": "stdout",
     "output_type": "stream",
     "text": [
      "Enter the item no: 2\n",
      "Enter the quantity: 4\n",
      "Enter 1 if you wanted to order more Item's2\n"
     ]
    }
   ],
   "source": [
    "amount = 0\n",
    "all_item_with_quant = {}\n",
    "all_item_no = []\n",
    "rep = \"1\"\n",
    "while(rep == \"1\"):\n",
    "    item_no = int(input(\"Enter the item no: \"))\n",
    "    if(item_no <= 9 and item_no >=1):\n",
    "        quant = int(input(\"Enter the quantity: \"))\n",
    "        all_item_with_quant[item_no] = quant\n",
    "        all_item_no.append(item_no)\n",
    "    rep = input(\"Enter 1 if you wanted to order more Item's :  \")\n"
   ]
  },
  {
   "cell_type": "code",
   "execution_count": 195,
   "id": "5920888f",
   "metadata": {},
   "outputs": [
    {
     "name": "stdout",
     "output_type": "stream",
     "text": [
      "\t\t\t\tDetails Of Bill\n",
      "******************************************\n",
      "Employee Name:  Aailyah\n",
      "Employee Batch-ID: AA01\n",
      "Employee Email-ID:  aailyaah190@gmail.com\n",
      "Item Name with their Quantity :  \n",
      "2 - Five Guys Cheeseburger ,\n",
      "---------------------------------------------------------------\n",
      "Total Amount:  1200\n",
      "---------------------------------------------------------------\n",
      "******************************************\n"
     ]
    }
   ],
   "source": [
    "print(\"\\t\\t\\t\\tDetails Of Bill\")\n",
    "\n",
    "Employee_Name = \"\"\n",
    "Employee_Batch_ID= \"\"\n",
    "Employee_Email_ID = \"\"\n",
    "Total_Amount = 0\n",
    "\n",
    "print(\"******************************************\")\n",
    "for employ in file_data:\n",
    "    prod = employ.split(\",\")\n",
    "    if(user_email == prod[6]):\n",
    "        for i in mess_record.keys():\n",
    "            for j in all_item_with_quant.keys():\n",
    "                if(i == j):\n",
    "                    product_found=False\n",
    "                    if(mess_record[i][\"quantity\"] >= all_item_with_quant[j]):\n",
    "                        amount = all_item_with_quant[j] * mess_record[i][\"price\"]\n",
    "                        if(int(prod[2]) >= amount):\n",
    "                            Employee_Name = prod[0]\n",
    "                            Employee_Batch_ID = prod[8]\n",
    "                            Employee_Email_ID = prod[6]\n",
    "                            Total_Amount += amount\n",
    "  \n",
    "\n",
    "print(\"Employee Name:  \" +  Employee_Name)\n",
    "print(\"Employee Batch-ID: \" + Employee_Batch_ID)\n",
    "print(\"Employee Email-ID:  \" + Employee_Email_ID)\n",
    "print(\"Item Name with their Quantity :  \")\n",
    "for i in all_item_with_quant:\n",
    "    print(i , \"-\" ,mess_record[i][\"item\"] , \",\" )\n",
    "    mess_record[i][\"quantity\"] -= i\n",
    "\n",
    "print(\"---------------------------------------------------------------\");\n",
    "print(\"Total Amount: \",Total_Amount)\n",
    "print(\"---------------------------------------------------------------\");\n",
    "\n",
    "print(\"******************************************\")\n",
    "    \n",
    "\n",
    "if(product_found):\n",
    "    print(\"Product Not Found!\")\n"
   ]
  },
  {
   "cell_type": "code",
   "execution_count": 199,
   "id": "f9bc2fff",
   "metadata": {},
   "outputs": [
    {
     "name": "stdout",
     "output_type": "stream",
     "text": [
      "New Record of Mess_item\n"
     ]
    },
    {
     "data": {
      "text/plain": [
       "{1: {'item': 'Burger King Whopper', 'price': 160, 'quantity': 300},\n",
       " 2: {'item': 'Five Guys Cheeseburger', 'price': 300, 'quantity': 398},\n",
       " 3: {'item': 'KFC original Recipe Chicken', 'price': 340, 'quantity': 100},\n",
       " 4: {'item': \"Araby's Roast Breef Sandwitch\", 'price': 250, 'quantity': 680},\n",
       " 5: {'item': 'Sonic Cherry Limeade', 'price': 150, 'quantity': 180},\n",
       " 6: {'item': \"Wendy's Frosty\", 'price': 60, 'quantity': 558},\n",
       " 7: {'item': 'StarBucks Pumpkin Spice Latte', 'price': 430, 'quantity': 500},\n",
       " 8: {'item': 'Taco Bell Burrito', 'price': 75, 'quantity': 240},\n",
       " 9: {'item': 'Dunkin Coffee', 'price': 100, 'quantity': 450}}"
      ]
     },
     "execution_count": 199,
     "metadata": {},
     "output_type": "execute_result"
    }
   ],
   "source": [
    "print(\"New Record of Mess_item\")\n",
    "mess_record"
   ]
  },
  {
   "cell_type": "code",
   "execution_count": 197,
   "id": "2de37ca1",
   "metadata": {},
   "outputs": [],
   "source": [
    "new_record = []\n",
    "\n",
    "for employ in file_data:\n",
    "    prod = employ.split(\",\")\n",
    "    if(prod[6] == user_email):\n",
    "        if(int(prod[2]) >= Total_Amount):\n",
    "            total_amount = str(int(prod[2] ) - Total_Amount)\n",
    "            prod[2] = total_amount\n",
    "            total_expand = str(int(prod[3]) + Total_Amount)\n",
    "            prod[3] = total_expand\n",
    "        else:\n",
    "            balance = False\n",
    "            print(\"Balance NILL!\")\n",
    "    new_record.append(prod[0] + \",\" + prod[1] + \",\" + prod[2] + \",\" + prod[3] + \",\" + prod[4] + \",\" + prod[5] + \",\" + prod[6] + \",\" + prod[7] + \",\" + prod[8] + \",\" +  \"\\n\")\n",
    "\n",
    "    \n",
    "new_record[-1] = new_record[-1][:-1]"
   ]
  },
  {
   "cell_type": "code",
   "execution_count": 198,
   "id": "408a85a8",
   "metadata": {},
   "outputs": [],
   "source": [
    "fd = open(\"employees-data.txt\",'w')\n",
    "for i in new_record:\n",
    "    fd.write(i)\n",
    "fd.close()"
   ]
  },
  {
   "cell_type": "code",
   "execution_count": null,
   "id": "d4196c47",
   "metadata": {},
   "outputs": [],
   "source": []
  }
 ],
 "metadata": {
  "kernelspec": {
   "display_name": "Python 3",
   "language": "python",
   "name": "python3"
  },
  "language_info": {
   "codemirror_mode": {
    "name": "ipython",
    "version": 3
   },
   "file_extension": ".py",
   "mimetype": "text/x-python",
   "name": "python",
   "nbconvert_exporter": "python",
   "pygments_lexer": "ipython3",
   "version": "3.8.8"
  }
 },
 "nbformat": 4,
 "nbformat_minor": 5
}
